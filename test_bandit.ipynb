{
 "cells": [
  {
   "cell_type": "code",
   "execution_count": 1,
   "id": "c849f35b-e329-434b-92cc-9303bd69a3bb",
   "metadata": {},
   "outputs": [
    {
     "name": "stdout",
     "output_type": "stream",
     "text": [
      "q:0.5 | Q:-0.1370648756195776 | n:1\n",
      "q:0.5 | Q:0.6866767215326749 | n:2\n",
      "q:0.5 | Q:1.134177956604778 | n:3\n",
      "q:0.5 | Q:1.2663843824915395 | n:4\n",
      "q:0.5 | Q:1.1961333193951935 | n:5\n",
      "q:0.5 | Q:1.3965059895083192 | n:6\n",
      "q:0.5 | Q:1.1308809185859392 | n:7\n",
      "q:0.5 | Q:0.9369811906245138 | n:8\n",
      "q:0.5 | Q:0.8444442481904836 | n:9\n",
      "q:0.5 | Q:0.8626637300818895 | n:10\n"
     ]
    }
   ],
   "source": [
    "import nbimporter\n",
    "import bandit\n",
    "import importlib\n",
    "importlib.reload(bandit)\n",
    "\n",
    "b = bandit.simple_bandit(q=0.5)\n",
    "for i in range(10):\n",
    "    r = b.pull()\n",
    "    b.update(r)\n",
    "    print(b)\n"
   ]
  }
 ],
 "metadata": {
  "kernelspec": {
   "display_name": "Python 3 (ipykernel)",
   "language": "python",
   "name": "python3"
  },
  "language_info": {
   "codemirror_mode": {
    "name": "ipython",
    "version": 3
   },
   "file_extension": ".py",
   "mimetype": "text/x-python",
   "name": "python",
   "nbconvert_exporter": "python",
   "pygments_lexer": "ipython3",
   "version": "3.11.7"
  }
 },
 "nbformat": 4,
 "nbformat_minor": 5
}
