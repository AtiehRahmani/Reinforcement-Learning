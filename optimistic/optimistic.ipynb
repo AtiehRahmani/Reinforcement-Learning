{
 "cells": [
  {
   "cell_type": "code",
   "execution_count": 7,
   "id": "d78dbcb6-626a-4315-9795-be92f211cbc9",
   "metadata": {},
   "outputs": [
    {
     "ename": "ImportError",
     "evalue": "cannot import name 'optimistic_bandit' from 'bandit' (C:\\Users\\Atieh\\New folder\\bandit.py)",
     "output_type": "error",
     "traceback": [
      "\u001b[1;31m---------------------------------------------------------------------------\u001b[0m",
      "\u001b[1;31mImportError\u001b[0m                               Traceback (most recent call last)",
      "Cell \u001b[1;32mIn[7], line 2\u001b[0m\n\u001b[0;32m      1\u001b[0m \u001b[38;5;28;01mimport\u001b[39;00m \u001b[38;5;21;01mnumpy\u001b[39;00m \u001b[38;5;28;01mas\u001b[39;00m \u001b[38;5;21;01mnp\u001b[39;00m\n\u001b[1;32m----> 2\u001b[0m \u001b[38;5;28;01mfrom\u001b[39;00m \u001b[38;5;21;01mbandit\u001b[39;00m \u001b[38;5;28;01mimport\u001b[39;00m optimistic_bandit\n",
      "\u001b[1;31mImportError\u001b[0m: cannot import name 'optimistic_bandit' from 'bandit' (C:\\Users\\Atieh\\New folder\\bandit.py)"
     ]
    }
   ],
   "source": [
    "import numpy as np\n",
    "from bandit import optimistic_bandit"
   ]
  },
  {
   "cell_type": "code",
   "execution_count": null,
   "id": "78685e54-a37d-4d08-893a-e9ffbc820e9d",
   "metadata": {},
   "outputs": [],
   "source": [
    "def multi_armed_bandit(num_bandits, epsilon, num_steps,Q__init):\n",
    "    bandits=[optimistic_bandit(np.random.normal(0,1)) for i in range (num_bandits)]\n",
    "    reward_history=[]\n",
    "\n",
    "\n",
    "    for i in range(num_steps):\n",
    "        if np.random.uniform(0,1)<epsilon:\n",
    "            #exploration\n",
    "            a =np.random.randint(0,num_bandits-1)\n",
    "        else:\n",
    "            #exploitation\n",
    "            a=np.argmax([b.Q for b in bandits])\n",
    "            \n",
    "        r=bandits[a].pull()\n",
    "        bandits[a].update(r)\n",
    "        reward_history.append(r)\n",
    "    return reward_history   \n"
   ]
  }
 ],
 "metadata": {
  "kernelspec": {
   "display_name": "Python 3 (ipykernel)",
   "language": "python",
   "name": "python3"
  },
  "language_info": {
   "codemirror_mode": {
    "name": "ipython",
    "version": 3
   },
   "file_extension": ".py",
   "mimetype": "text/x-python",
   "name": "python",
   "nbconvert_exporter": "python",
   "pygments_lexer": "ipython3",
   "version": "3.11.7"
  }
 },
 "nbformat": 4,
 "nbformat_minor": 5
}
