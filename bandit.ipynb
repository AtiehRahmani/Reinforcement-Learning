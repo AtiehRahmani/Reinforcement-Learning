{
 "cells": [
  {
   "cell_type": "code",
   "execution_count": 6,
   "id": "8d333f50-9019-447c-bc3f-a00cc11872d5",
   "metadata": {},
   "outputs": [],
   "source": [
    "import numpy as np\n",
    "\n",
    "class Bandit:\n",
    "    def __init__(self, q, Q):\n",
    "        self.q = q\n",
    "        self.Q = Q\n",
    "        self.n = 0\n",
    "\n",
    "    def __str__(self):\n",
    "        return f\"q:{self.q} | Q:{self.Q} | n:{self.n}\"\n",
    "\n",
    "    def pull(self):\n",
    "        return np.random.normal(self.q, 1)\n",
    "\n",
    "    def update(self, r):\n",
    "        self.n += 1\n",
    "        self.Q = self.Q + (1/self.n) * (r - self.Q)\n",
    "        \n",
    "def simple_bandit(q):\n",
    "    return Bandit(q=q,Q=0)\n"
   ]
  },
  {
   "cell_type": "code",
   "execution_count": null,
   "id": "fbdfb2ba-06da-498b-b5b3-b31579e475c3",
   "metadata": {},
   "outputs": [],
   "source": []
  },
  {
   "cell_type": "code",
   "execution_count": null,
   "id": "2789af20-3cf7-4081-8b31-b9222cf636ee",
   "metadata": {},
   "outputs": [],
   "source": []
  }
 ],
 "metadata": {
  "kernelspec": {
   "display_name": "Python 3 (ipykernel)",
   "language": "python",
   "name": "python3"
  },
  "language_info": {
   "codemirror_mode": {
    "name": "ipython",
    "version": 3
   },
   "file_extension": ".py",
   "mimetype": "text/x-python",
   "name": "python",
   "nbconvert_exporter": "python",
   "pygments_lexer": "ipython3",
   "version": "3.11.7"
  }
 },
 "nbformat": 4,
 "nbformat_minor": 5
}
